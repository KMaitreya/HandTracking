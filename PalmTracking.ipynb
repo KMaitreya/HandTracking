{
 "cells": [
  {
   "cell_type": "code",
   "execution_count": null,
   "id": "a5d24a5d",
   "metadata": {},
   "outputs": [],
   "source": [
    "import cv2\n",
    "import time\n",
    "import mediapipe as mp\n",
    "\n",
    "#capturing the video\n",
    "cap=cv2.VideoCapture(0)\n",
    "\n",
    "#this will help us detect the hand and draw the reference points\n",
    "mphand=mp.solutions.hands\n",
    "hands=mphand.Hands()\n",
    "mpDraw=mp.solutions.drawing_utils    #this statement will help us plot the 21 reference points and their connections\n",
    "\n",
    "#variables required to print frame rate\n",
    "previous_time=0\n",
    "current_time=0\n",
    "\n",
    "while True:\n",
    "    success, img=cap.read()\n",
    "    \n",
    "    #converting image to rgb\n",
    "    img_rgb=cv2.cvtColor(img, cv2.COLOR_BGR2RGB)\n",
    "    \n",
    "    #detecting hand/s using 21 points of reference, these reference points will be plotted on the hand\n",
    "    result=hands.process(img_rgb)\n",
    "    if result.multi_hand_landmarks:\n",
    "        for handlms in result.multi_hand_landmarks:    #handlms gives us the number of hands i.e. 1 hand, 2hands...\n",
    "            mpDraw.draw_landmarks(img, handlms, mphand.HAND_CONNECTIONS)\n",
    "            #the above statement will actually plot the 21 reference points and their connections\n",
    "            \n",
    "    #calculating the frame rate\n",
    "    current_time=time.time()\n",
    "    frame_rate=1/(current_time-previous_time)\n",
    "    previous_time=current_time\n",
    "    \n",
    "    #displaying the results\n",
    "    cv2.putText(img, str(int(frame_rate)), (20, 40), cv2.FONT_HERSHEY_PLAIN, 3, (0, 0, 255), 3)\n",
    "    cv2.imshow(\"camera\", img)\n",
    "    cv2.waitKey(1)"
   ]
  },
  {
   "cell_type": "code",
   "execution_count": null,
   "id": "1298ec78",
   "metadata": {},
   "outputs": [],
   "source": []
  }
 ],
 "metadata": {
  "kernelspec": {
   "display_name": "Python 3",
   "language": "python",
   "name": "python3"
  },
  "language_info": {
   "codemirror_mode": {
    "name": "ipython",
    "version": 3
   },
   "file_extension": ".py",
   "mimetype": "text/x-python",
   "name": "python",
   "nbconvert_exporter": "python",
   "pygments_lexer": "ipython3",
   "version": "3.8.8"
  }
 },
 "nbformat": 4,
 "nbformat_minor": 5
}
